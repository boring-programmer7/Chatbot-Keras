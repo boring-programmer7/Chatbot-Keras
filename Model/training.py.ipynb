{
 "cells": [
  {
   "cell_type": "markdown",
   "metadata": {},
   "source": [
    "# Training a Chatbot from own data"
   ]
  },
  {
   "cell_type": "code",
   "execution_count": 1,
   "metadata": {},
   "outputs": [],
   "source": [
    "#Frameworks & librearies\n",
    "\n",
    "import random #Choose random response\n",
    "import json   #read train data\n",
    "import pickle\n",
    "import numpy as np\n",
    "import nltk\n",
    "import spacy #working -> work\n",
    "from nltk.stem import SnowballStemmer\n",
    "from tensorflow.keras.models import Sequential #Deep Learning\n",
    "from tensorflow.keras.layers import Dense,Activation, Dropout  #Layers NN\n",
    "from tensorflow.keras.optimizers import SGD #Gradient Descent"
   ]
  },
  {
   "cell_type": "code",
   "execution_count": 2,
   "metadata": {},
   "outputs": [],
   "source": [
    "#nltk.download('punkt')"
   ]
  },
  {
   "cell_type": "markdown",
   "metadata": {},
   "source": [
    "## Lematización\n",
    "\n",
    "En español, por ejemplo, sabemos que canto, cantas, canta, cantamos, cantáis, cantan son distintas formas (conjugaciones) de un mismo verbo (cantar)"
   ]
  },
  {
   "cell_type": "code",
   "execution_count": 3,
   "metadata": {},
   "outputs": [
    {
     "data": {
      "text/plain": [
       "['texto', 'dia', 'holar', 'tokens', 'quedar', 'normalizacion']"
      ]
     },
     "execution_count": 3,
     "metadata": {},
     "output_type": "execute_result"
    }
   ],
   "source": [
    "import spacy\n",
    "\n",
    "\n",
    "nlp = spacy.load(\"es_core_news_sm\") #Spanish\n",
    "\n",
    "#nlp=spacy.load(\"en_core_web_sm\") #English\n",
    "\n",
    "\n",
    "def normalize(text,\n",
    "              tildes={'á':'a','é':'e','í':'i','ó':'o','ú':'u'},\n",
    "             save_words=['dias','donde']):\n",
    "    \n",
    "    #Remove tildes\n",
    "    text=text.lower()\n",
    "    for k,v in tildes.items():\n",
    "        text=text.replace(k,v)\n",
    "    #spacy model\n",
    "    doc = nlp(text)\n",
    "    #drop stopwords and punctuation\n",
    "    words=[]\n",
    "    for t in doc:\n",
    "        if not t.is_punct | t.is_stop:\n",
    "            words.append(t.orth_)\n",
    "        elif not t.is_punct and t.orth_ in save_words:\n",
    "            words.append(t.orth_)\n",
    "            \n",
    "    #words = [t.orth_ for t in doc if not t.is_punct | t.is_stop] \n",
    "    lexical_tokens = [t.lower() for t in words if len(t) > 2 and t.isalpha()]\n",
    "    return \" \".join(lexical_tokens)\n",
    "\n",
    "\n",
    "#Lemmatizer\n",
    "def lemmatizer(text):\n",
    "    doc = nlp(text)\n",
    "    lemmas = [tok.lemma_.lower() for tok in doc]\n",
    "    return lemmas   \n",
    "        \n",
    "normText = normalize(\"Soy un texto de prueba.Buenos dias. hola, como estas? ¿Cuántos tokens me quedarán después de la normalización?\")\n",
    "lemmatizer(normText)"
   ]
  },
  {
   "cell_type": "code",
   "execution_count": 4,
   "metadata": {},
   "outputs": [],
   "source": [
    "#Load Data\n",
    "intents=json.loads(open(\"intents.json\").read())\n",
    "#intents"
   ]
  },
  {
   "cell_type": "code",
   "execution_count": 5,
   "metadata": {},
   "outputs": [],
   "source": [
    "#Get Documents to training\n",
    "\n",
    "words=[]\n",
    "classes=[]\n",
    "documents=[]\n",
    "ignore_letters=['?','!',\"¡\",\"¿\",\",\",\".\"]\n",
    "\n",
    "for intent in intents['intents']:\n",
    "    for pattern in intent['patterns']:\n",
    "        word_list=nltk.word_tokenize(pattern)\n",
    "        words.extend(word_list)\n",
    "        documents.append((word_list,intent['tag']))\n",
    "        if intent['tag'] not in classes:\n",
    "            classes.append(intent['tag'])\n",
    "#documents\n",
    "#words"
   ]
  },
  {
   "cell_type": "code",
   "execution_count": 6,
   "metadata": {},
   "outputs": [
    {
     "data": {
      "text/plain": [
       "['hola',\n",
       " 'hola',\n",
       " ',',\n",
       " 'como',\n",
       " 'estas',\n",
       " '?',\n",
       " 'buenos',\n",
       " 'dias',\n",
       " 'buenas',\n",
       " 'tardes',\n",
       " 'buenas',\n",
       " 'noches',\n",
       " 'holi',\n",
       " 'muy',\n",
       " 'buenas',\n",
       " 'chao',\n",
       " 'adios',\n",
       " 'hasta',\n",
       " 'pronto',\n",
       " 'muchas',\n",
       " 'gracias',\n",
       " 'gracias',\n",
       " 'te',\n",
       " 'agradezco',\n",
       " 'vemos',\n",
       " 'donde',\n",
       " 'donde',\n",
       " 'puedo',\n",
       " 'comprar',\n",
       " 'donde',\n",
       " 'los',\n",
       " 'puedo',\n",
       " 'encontrar',\n",
       " 'donde',\n",
       " 'puedo',\n",
       " 'encontrar',\n",
       " 'la',\n",
       " 'tienda',\n",
       " 'donde',\n",
       " 'estan',\n",
       " 'ubicados',\n",
       " 'donde',\n",
       " 'los',\n",
       " 'puedo',\n",
       " 'ubicar',\n",
       " 'lugares',\n",
       " 'fisicos',\n",
       " 'a',\n",
       " 'donde',\n",
       " 'puedo',\n",
       " 'ir',\n",
       " 'como',\n",
       " 'es',\n",
       " 'la',\n",
       " 'direccion',\n",
       " 'en',\n",
       " 'la',\n",
       " 'ciudad',\n",
       " 'donde',\n",
       " 'puedo',\n",
       " 'encontrarlos',\n",
       " 'donde',\n",
       " 'puedo',\n",
       " 'encontrarlos',\n",
       " 'en',\n",
       " 'cual',\n",
       " 'calle',\n",
       " 'se',\n",
       " 'encuentran',\n",
       " 'como',\n",
       " 'es',\n",
       " 'el',\n",
       " 'menu',\n",
       " 'venden',\n",
       " 'que',\n",
       " 'producto',\n",
       " 'tienen',\n",
       " 'a',\n",
       " 'la',\n",
       " 'venta',\n",
       " 'que',\n",
       " 'puedo',\n",
       " 'comprar',\n",
       " 'que',\n",
       " 'hay',\n",
       " 'en',\n",
       " 'el',\n",
       " 'menu',\n",
       " 'catalogo',\n",
       " 'quiero',\n",
       " 'comprar',\n",
       " 'algo',\n",
       " 'me',\n",
       " 'gustaria',\n",
       " 'tener',\n",
       " 'mas',\n",
       " 'informacion',\n",
       " 'quiero',\n",
       " 'comprar',\n",
       " 'productos',\n",
       " 'que',\n",
       " 'tienen',\n",
       " 'a',\n",
       " 'la',\n",
       " 'venta',\n",
       " 'que',\n",
       " 'productos',\n",
       " 'tienen',\n",
       " 'disponibles',\n",
       " 'galletas',\n",
       " 'como',\n",
       " 'es',\n",
       " 'su',\n",
       " 'horario',\n",
       " 'a',\n",
       " 'que',\n",
       " 'hora',\n",
       " 'abren',\n",
       " 'esta',\n",
       " 'abierto',\n",
       " 'abren',\n",
       " 'los',\n",
       " 'fines',\n",
       " 'de',\n",
       " 'semana',\n",
       " 'hasta',\n",
       " 'que',\n",
       " 'horas',\n",
       " 'esta',\n",
       " 'abierto',\n",
       " 'a',\n",
       " 'que',\n",
       " 'horas',\n",
       " 'cierran',\n",
       " 'horas',\n",
       " 'atienden',\n",
       " 'los',\n",
       " 'fines',\n",
       " 'de',\n",
       " 'semana',\n",
       " 'lunes',\n",
       " 'a',\n",
       " 'viernes',\n",
       " 'sabado',\n",
       " 'domingo']"
      ]
     },
     "execution_count": 6,
     "metadata": {},
     "output_type": "execute_result"
    }
   ],
   "source": [
    "words"
   ]
  },
  {
   "cell_type": "code",
   "execution_count": 7,
   "metadata": {},
   "outputs": [],
   "source": [
    "#lematize word list\n",
    "normWords=normalize(\" \".join(words))\n",
    "words=[lemma for lemma in lemmatizer(normWords) if lemma not in ignore_letters]"
   ]
  },
  {
   "cell_type": "code",
   "execution_count": 8,
   "metadata": {},
   "outputs": [
    {
     "data": {
      "text/plain": [
       "['abierto',\n",
       " 'abrir',\n",
       " 'adio',\n",
       " 'agradecer',\n",
       " 'atender',\n",
       " 'calle',\n",
       " 'catalogo',\n",
       " 'cerrar',\n",
       " 'chao',\n",
       " 'ciudad',\n",
       " 'comprar',\n",
       " 'dia',\n",
       " 'direccion',\n",
       " 'disponible',\n",
       " 'domingo',\n",
       " 'donde',\n",
       " 'encontrar',\n",
       " 'encontrar él',\n",
       " 'encontrarlos',\n",
       " 'fin',\n",
       " 'fisico',\n",
       " 'galleta',\n",
       " 'gracias',\n",
       " 'gustaria',\n",
       " 'hola',\n",
       " 'holar',\n",
       " 'holi',\n",
       " 'hora',\n",
       " 'horario',\n",
       " 'informacion',\n",
       " 'lugar',\n",
       " 'lunes',\n",
       " 'menu',\n",
       " 'noche',\n",
       " 'producto',\n",
       " 'querer',\n",
       " 'sabado',\n",
       " 'semana',\n",
       " 'tarde',\n",
       " 'tienda',\n",
       " 'ubicado',\n",
       " 'ubicar',\n",
       " 'vender',\n",
       " 'venta',\n",
       " 'ventar',\n",
       " 'ver',\n",
       " 'viernes']"
      ]
     },
     "execution_count": 8,
     "metadata": {},
     "output_type": "execute_result"
    }
   ],
   "source": [
    "#Remove duplicates\n",
    "words=sorted(set(words))\n",
    "words"
   ]
  },
  {
   "cell_type": "code",
   "execution_count": 9,
   "metadata": {},
   "outputs": [],
   "source": [
    "#remove duplicates classes\n",
    "classes=sorted(set(classes))"
   ]
  },
  {
   "cell_type": "code",
   "execution_count": 10,
   "metadata": {},
   "outputs": [],
   "source": [
    "#Save lists in picke format\n",
    "pickle.dump(words,open('words.pkl','wb'))\n",
    "pickle.dump(classes,open('classes.pkl','wb'))"
   ]
  },
  {
   "cell_type": "code",
   "execution_count": 11,
   "metadata": {},
   "outputs": [],
   "source": [
    "#Create Matrix for train\n",
    "training=[]\n",
    "output_empty=[0 for c in classes]\n",
    "\n",
    "\n",
    "\n",
    "for document in documents:\n",
    "    bag=[] #[0,0,0,1] if words in doc\n",
    "    word_patterns=document[0]\n",
    "    word_patterns=[lemma for lemma in lemmatizer(\" \" .join(word_patterns)) if lemma not in ignore_letters]\n",
    "    for word in words:\n",
    "        bag.append(1) if word in word_patterns else bag.append(0)\n",
    "    output_row=list(output_empty)\n",
    "    output_row[classes.index(document[1])]=1 #index class-> id for labels\n",
    "    training.append([bag,output_row])  #Xi=[xi,yi] |xi=[0,0,1,0], yi=[2]\n",
    "\n",
    "#training[:2]"
   ]
  },
  {
   "cell_type": "code",
   "execution_count": 12,
   "metadata": {},
   "outputs": [],
   "source": [
    "#Random X\n",
    "random.shuffle(training)"
   ]
  },
  {
   "cell_type": "code",
   "execution_count": 13,
   "metadata": {},
   "outputs": [
    {
     "name": "stderr",
     "output_type": "stream",
     "text": [
      "c:\\users\\usuario\\appdata\\local\\programs\\python\\python36\\lib\\site-packages\\ipykernel_launcher.py:1: VisibleDeprecationWarning: Creating an ndarray from ragged nested sequences (which is a list-or-tuple of lists-or-tuples-or ndarrays with different lengths or shapes) is deprecated. If you meant to do this, you must specify 'dtype=object' when creating the ndarray\n",
      "  \"\"\"Entry point for launching an IPython kernel.\n"
     ]
    }
   ],
   "source": [
    "training=np.array(training)\n",
    "train_x=list(training[:,0])  \n",
    "train_y=list(training[:,1])"
   ]
  },
  {
   "cell_type": "code",
   "execution_count": 14,
   "metadata": {},
   "outputs": [
    {
     "data": {
      "text/plain": [
       "(47, 5)"
      ]
     },
     "execution_count": 14,
     "metadata": {},
     "output_type": "execute_result"
    }
   ],
   "source": [
    "#dimmensions\n",
    "n_features=len(train_x[0])\n",
    "n_outputs=len(train_y[0])\n",
    "n_features,n_outputs"
   ]
  },
  {
   "cell_type": "code",
   "execution_count": 15,
   "metadata": {},
   "outputs": [],
   "source": [
    "#Model from Keras\n",
    "\n",
    "model=Sequential()\n",
    "model.add(Dense(64,\n",
    "                input_shape=(n_features,),\n",
    "                activation='relu'           \n",
    "               )) #full connected ->64 neurons, relu function max(0,n)\n",
    "model.add(Dropout(0.5)) #Evit overfitting shutoff neurons with probably .5\n",
    "model.add(Dense(32,activation='relu'))\n",
    "model.add(Dropout(0.5))\n",
    "model.add(Dense(\n",
    "    n_outputs,\n",
    "    activation='softmax'\n",
    ")) #Probably [.3,.8,.7] for each class\n",
    "\n",
    "\n",
    "#Stocastic Gradient Descent [Optimizer]\n",
    "sgd=SGD(lr=0.01,decay=1e-6,momentum=0.9,nesterov=True)\n",
    "\n",
    "#Compile Model\n",
    "model.compile(loss='categorical_crossentropy',\n",
    "             optimizer=sgd,metrics=['accuracy'])"
   ]
  },
  {
   "cell_type": "code",
   "execution_count": 16,
   "metadata": {},
   "outputs": [
    {
     "name": "stdout",
     "output_type": "stream",
     "text": [
      "Epoch 1/100\n",
      "10/10 [==============================] - 1s 2ms/step - loss: 1.6343 - accuracy: 0.2497\n",
      "Epoch 2/100\n",
      "10/10 [==============================] - 0s 889us/step - loss: 1.5894 - accuracy: 0.2168\n",
      "Epoch 3/100\n",
      "10/10 [==============================] - 0s 778us/step - loss: 1.5335 - accuracy: 0.3459\n",
      "Epoch 4/100\n",
      "10/10 [==============================] - 0s 778us/step - loss: 1.4733 - accuracy: 0.4893\n",
      "Epoch 5/100\n",
      "10/10 [==============================] - 0s 889us/step - loss: 1.3943 - accuracy: 0.5346\n",
      "Epoch 6/100\n",
      "10/10 [==============================] - 0s 1ms/step - loss: 1.3868 - accuracy: 0.4024\n",
      "Epoch 7/100\n",
      "10/10 [==============================] - 0s 778us/step - loss: 1.3198 - accuracy: 0.5596\n",
      "Epoch 8/100\n",
      "10/10 [==============================] - 0s 1000us/step - loss: 1.3136 - accuracy: 0.5572\n",
      "Epoch 9/100\n",
      "10/10 [==============================] - 0s 889us/step - loss: 1.2299 - accuracy: 0.5142\n",
      "Epoch 10/100\n",
      "10/10 [==============================] - 0s 889us/step - loss: 1.2090 - accuracy: 0.5448\n",
      "Epoch 11/100\n",
      "10/10 [==============================] - 0s 889us/step - loss: 1.0663 - accuracy: 0.6885\n",
      "Epoch 12/100\n",
      "10/10 [==============================] - 0s 1ms/step - loss: 1.1610 - accuracy: 0.5713\n",
      "Epoch 13/100\n",
      "10/10 [==============================] - 0s 1000us/step - loss: 1.0313 - accuracy: 0.6077\n",
      "Epoch 14/100\n",
      "10/10 [==============================] - 0s 889us/step - loss: 0.9593 - accuracy: 0.6730\n",
      "Epoch 15/100\n",
      "10/10 [==============================] - 0s 889us/step - loss: 1.0763 - accuracy: 0.5454\n",
      "Epoch 16/100\n",
      "10/10 [==============================] - 0s 1ms/step - loss: 1.0330 - accuracy: 0.5231\n",
      "Epoch 17/100\n",
      "10/10 [==============================] - 0s 889us/step - loss: 0.8521 - accuracy: 0.6239\n",
      "Epoch 18/100\n",
      "10/10 [==============================] - 0s 1000us/step - loss: 0.9771 - accuracy: 0.5519\n",
      "Epoch 19/100\n",
      "10/10 [==============================] - 0s 1ms/step - loss: 0.6929 - accuracy: 0.8046\n",
      "Epoch 20/100\n",
      "10/10 [==============================] - 0s 1ms/step - loss: 1.0297 - accuracy: 0.5952\n",
      "Epoch 21/100\n",
      "10/10 [==============================] - 0s 1ms/step - loss: 0.8233 - accuracy: 0.6019\n",
      "Epoch 22/100\n",
      "10/10 [==============================] - 0s 778us/step - loss: 0.7984 - accuracy: 0.6106\n",
      "Epoch 23/100\n",
      "10/10 [==============================] - 0s 1ms/step - loss: 0.7542 - accuracy: 0.7684\n",
      "Epoch 24/100\n",
      "10/10 [==============================] - 0s 1ms/step - loss: 0.6607 - accuracy: 0.7881\n",
      "Epoch 25/100\n",
      "10/10 [==============================] - 0s 1ms/step - loss: 0.6962 - accuracy: 0.7286\n",
      "Epoch 26/100\n",
      "10/10 [==============================] - 0s 889us/step - loss: 0.6323 - accuracy: 0.7874\n",
      "Epoch 27/100\n",
      "10/10 [==============================] - 0s 889us/step - loss: 0.5342 - accuracy: 0.8336\n",
      "Epoch 28/100\n",
      "10/10 [==============================] - 0s 1ms/step - loss: 0.6079 - accuracy: 0.7730\n",
      "Epoch 29/100\n",
      "10/10 [==============================] - 0s 1ms/step - loss: 0.5727 - accuracy: 0.8378\n",
      "Epoch 30/100\n",
      "10/10 [==============================] - 0s 1ms/step - loss: 0.4630 - accuracy: 0.8467\n",
      "Epoch 31/100\n",
      "10/10 [==============================] - 0s 889us/step - loss: 0.5330 - accuracy: 0.8065\n",
      "Epoch 32/100\n",
      "10/10 [==============================] - 0s 1ms/step - loss: 0.4544 - accuracy: 0.8126\n",
      "Epoch 33/100\n",
      "10/10 [==============================] - 0s 1ms/step - loss: 0.3660 - accuracy: 0.8875\n",
      "Epoch 34/100\n",
      "10/10 [==============================] - 0s 889us/step - loss: 0.5088 - accuracy: 0.8187\n",
      "Epoch 35/100\n",
      "10/10 [==============================] - 0s 1000us/step - loss: 0.3514 - accuracy: 0.8774\n",
      "Epoch 36/100\n",
      "10/10 [==============================] - 0s 1ms/step - loss: 0.4532 - accuracy: 0.8804\n",
      "Epoch 37/100\n",
      "10/10 [==============================] - 0s 889us/step - loss: 0.4279 - accuracy: 0.8829\n",
      "Epoch 38/100\n",
      "10/10 [==============================] - 0s 1000us/step - loss: 0.4183 - accuracy: 0.9502\n",
      "Epoch 39/100\n",
      "10/10 [==============================] - 0s 889us/step - loss: 0.4435 - accuracy: 0.7839\n",
      "Epoch 40/100\n",
      "10/10 [==============================] - 0s 889us/step - loss: 0.3399 - accuracy: 0.8587\n",
      "Epoch 41/100\n",
      "10/10 [==============================] - 0s 1000us/step - loss: 0.3565 - accuracy: 0.9580\n",
      "Epoch 42/100\n",
      "10/10 [==============================] - 0s 889us/step - loss: 0.4506 - accuracy: 0.8656\n",
      "Epoch 43/100\n",
      "10/10 [==============================] - 0s 1ms/step - loss: 0.4707 - accuracy: 0.8090\n",
      "Epoch 44/100\n",
      "10/10 [==============================] - 0s 1ms/step - loss: 0.2313 - accuracy: 0.9534\n",
      "Epoch 45/100\n",
      "10/10 [==============================] - 0s 1ms/step - loss: 0.1974 - accuracy: 0.9871\n",
      "Epoch 46/100\n",
      "10/10 [==============================] - 0s 1ms/step - loss: 0.4712 - accuracy: 0.8537\n",
      "Epoch 47/100\n",
      "10/10 [==============================] - 0s 889us/step - loss: 0.3205 - accuracy: 0.8759\n",
      "Epoch 48/100\n",
      "10/10 [==============================] - 0s 889us/step - loss: 0.5192 - accuracy: 0.8224\n",
      "Epoch 49/100\n",
      "10/10 [==============================] - 0s 1000us/step - loss: 0.3159 - accuracy: 0.9284\n",
      "Epoch 50/100\n",
      "10/10 [==============================] - 0s 1000us/step - loss: 0.3081 - accuracy: 0.9105\n",
      "Epoch 51/100\n",
      "10/10 [==============================] - 0s 889us/step - loss: 0.1831 - accuracy: 0.9505\n",
      "Epoch 52/100\n",
      "10/10 [==============================] - 0s 889us/step - loss: 0.2436 - accuracy: 0.9647\n",
      "Epoch 53/100\n",
      "10/10 [==============================] - 0s 1ms/step - loss: 0.2932 - accuracy: 0.9086\n",
      "Epoch 54/100\n",
      "10/10 [==============================] - 0s 1000us/step - loss: 0.2190 - accuracy: 0.9692\n",
      "Epoch 55/100\n",
      "10/10 [==============================] - 0s 1ms/step - loss: 0.2051 - accuracy: 0.9643\n",
      "Epoch 56/100\n",
      "10/10 [==============================] - 0s 889us/step - loss: 0.2062 - accuracy: 0.9459\n",
      "Epoch 57/100\n",
      "10/10 [==============================] - 0s 889us/step - loss: 0.2321 - accuracy: 0.9494\n",
      "Epoch 58/100\n",
      "10/10 [==============================] - 0s 778us/step - loss: 0.3205 - accuracy: 0.9783\n",
      "Epoch 59/100\n",
      "10/10 [==============================] - 0s 778us/step - loss: 0.2050 - accuracy: 0.9452\n",
      "Epoch 60/100\n",
      "10/10 [==============================] - 0s 778us/step - loss: 0.2374 - accuracy: 0.9129\n",
      "Epoch 61/100\n",
      "10/10 [==============================] - 0s 667us/step - loss: 0.1787 - accuracy: 0.9723\n",
      "Epoch 62/100\n",
      "10/10 [==============================] - 0s 778us/step - loss: 0.3006 - accuracy: 0.8691\n",
      "Epoch 63/100\n",
      "10/10 [==============================] - 0s 889us/step - loss: 0.2003 - accuracy: 0.9402\n",
      "Epoch 64/100\n",
      "10/10 [==============================] - 0s 1000us/step - loss: 0.2873 - accuracy: 0.9496\n",
      "Epoch 65/100\n",
      "10/10 [==============================] - 0s 778us/step - loss: 0.2695 - accuracy: 0.9550\n",
      "Epoch 66/100\n",
      "10/10 [==============================] - 0s 778us/step - loss: 0.2323 - accuracy: 0.9099\n",
      "Epoch 67/100\n",
      "10/10 [==============================] - 0s 667us/step - loss: 0.1224 - accuracy: 0.9507\n",
      "Epoch 68/100\n",
      "10/10 [==============================] - 0s 778us/step - loss: 0.1437 - accuracy: 0.9895\n",
      "Epoch 69/100\n",
      "10/10 [==============================] - 0s 778us/step - loss: 0.2648 - accuracy: 0.9459\n",
      "Epoch 70/100\n",
      "10/10 [==============================] - 0s 667us/step - loss: 0.2058 - accuracy: 0.9501\n",
      "Epoch 71/100\n",
      "10/10 [==============================] - 0s 778us/step - loss: 0.2881 - accuracy: 0.8793\n",
      "Epoch 72/100\n",
      "10/10 [==============================] - 0s 889us/step - loss: 0.1904 - accuracy: 0.9239\n",
      "Epoch 73/100\n",
      "10/10 [==============================] - 0s 889us/step - loss: 0.1549 - accuracy: 0.9587\n",
      "Epoch 74/100\n",
      "10/10 [==============================] - 0s 889us/step - loss: 0.3251 - accuracy: 0.9096\n",
      "Epoch 75/100\n",
      "10/10 [==============================] - 0s 1ms/step - loss: 0.1580 - accuracy: 0.9610\n",
      "Epoch 76/100\n",
      "10/10 [==============================] - 0s 1000us/step - loss: 0.1285 - accuracy: 0.9921\n",
      "Epoch 77/100\n",
      "10/10 [==============================] - 0s 778us/step - loss: 0.3808 - accuracy: 0.8413\n",
      "Epoch 78/100\n",
      "10/10 [==============================] - 0s 1ms/step - loss: 0.1843 - accuracy: 0.8930\n",
      "Epoch 79/100\n",
      "10/10 [==============================] - 0s 889us/step - loss: 0.2113 - accuracy: 0.8944\n",
      "Epoch 80/100\n",
      "10/10 [==============================] - 0s 778us/step - loss: 0.1165 - accuracy: 0.9828\n",
      "Epoch 81/100\n"
     ]
    },
    {
     "name": "stdout",
     "output_type": "stream",
     "text": [
      "10/10 [==============================] - 0s 889us/step - loss: 0.1746 - accuracy: 0.9927\n",
      "Epoch 82/100\n",
      "10/10 [==============================] - 0s 889us/step - loss: 0.1204 - accuracy: 0.9677\n",
      "Epoch 83/100\n",
      "10/10 [==============================] - 0s 778us/step - loss: 0.1665 - accuracy: 0.9526\n",
      "Epoch 84/100\n",
      "10/10 [==============================] - 0s 778us/step - loss: 0.1736 - accuracy: 0.9828\n",
      "Epoch 85/100\n",
      "10/10 [==============================] - 0s 889us/step - loss: 0.3235 - accuracy: 0.8908\n",
      "Epoch 86/100\n",
      "10/10 [==============================] - 0s 778us/step - loss: 0.1909 - accuracy: 0.9621\n",
      "Epoch 87/100\n",
      "10/10 [==============================] - 0s 667us/step - loss: 0.2219 - accuracy: 0.9252\n",
      "Epoch 88/100\n",
      "10/10 [==============================] - 0s 1ms/step - loss: 0.2379 - accuracy: 0.9062\n",
      "Epoch 89/100\n",
      "10/10 [==============================] - 0s 889us/step - loss: 0.2034 - accuracy: 0.9631\n",
      "Epoch 90/100\n",
      "10/10 [==============================] - 0s 889us/step - loss: 0.1629 - accuracy: 0.9593\n",
      "Epoch 91/100\n",
      "10/10 [==============================] - 0s 1ms/step - loss: 0.1873 - accuracy: 0.8865\n",
      "Epoch 92/100\n",
      "10/10 [==============================] - 0s 667us/step - loss: 0.1865 - accuracy: 0.9550\n",
      "Epoch 93/100\n",
      "10/10 [==============================] - 0s 778us/step - loss: 0.2184 - accuracy: 0.9449\n",
      "Epoch 94/100\n",
      "10/10 [==============================] - 0s 1ms/step - loss: 0.2047 - accuracy: 0.8829\n",
      "Epoch 95/100\n",
      "10/10 [==============================] - 0s 778us/step - loss: 0.1462 - accuracy: 0.9611\n",
      "Epoch 96/100\n",
      "10/10 [==============================] - 0s 872us/step - loss: 0.1725 - accuracy: 0.9746\n",
      "Epoch 97/100\n",
      "10/10 [==============================] - 0s 889us/step - loss: 0.1814 - accuracy: 0.9314\n",
      "Epoch 98/100\n",
      "10/10 [==============================] - 0s 667us/step - loss: 0.2689 - accuracy: 0.9090\n",
      "Epoch 99/100\n",
      "10/10 [==============================] - 0s 889us/step - loss: 0.1501 - accuracy: 0.9496\n",
      "Epoch 100/100\n",
      "10/10 [==============================] - 0s 1ms/step - loss: 0.1576 - accuracy: 0.9334\n"
     ]
    }
   ],
   "source": [
    "#Traing (Fit) Model\n",
    "\n",
    "X=np.array(train_x)\n",
    "y=np.array(train_y)\n",
    "\n",
    "epochs=100 #Number times to show data to model\n",
    "batch_size=5 #5 rows at time for epoch\n",
    "verbose=1 #Minimun information\n",
    "\n",
    "hist=model.fit(X,y,epochs=epochs,batch_size=batch_size,verbose=verbose)"
   ]
  },
  {
   "cell_type": "code",
   "execution_count": 17,
   "metadata": {},
   "outputs": [],
   "source": [
    "#Save model\n",
    "model.save('chatbotmodel.h5',hist)"
   ]
  },
  {
   "cell_type": "markdown",
   "metadata": {},
   "source": [
    "# Make Chatbot"
   ]
  },
  {
   "cell_type": "code",
   "execution_count": 31,
   "metadata": {},
   "outputs": [
    {
     "data": {
      "text/plain": [
       "(5, 47)"
      ]
     },
     "execution_count": 31,
     "metadata": {},
     "output_type": "execute_result"
    }
   ],
   "source": [
    "import json\n",
    "import pickle\n",
    "import numpy as np\n",
    "import nltk\n",
    "from tensorflow.keras.models import load_model\n",
    "import spacy\n",
    "\n",
    "#load Spacy Model\n",
    "#nlp = spacy.load(\"en_core_web_sm\") #English\n",
    "nlp = spacy.load(\"es_core_news_sm\") #Spanish\n",
    "\n",
    "#load pickles\n",
    "words=pickle.load(open('words.pkl','rb'))\n",
    "classes=pickle.load(open('classes.pkl','rb'))\n",
    "\n",
    "#load data (intents) json\n",
    "intents=json.loads(open(\"intents.json\",encoding=\"utf-8\").read())\n",
    "\n",
    "#Load Model\n",
    "model=load_model('chatbotmodel.h5')\n",
    "len(classes),len(words)"
   ]
  },
  {
   "cell_type": "code",
   "execution_count": 32,
   "metadata": {},
   "outputs": [
    {
     "data": {
      "text/plain": [
       "['holar']"
      ]
     },
     "execution_count": 32,
     "metadata": {},
     "output_type": "execute_result"
    }
   ],
   "source": [
    "#Clean Text\n",
    "\n",
    "def clean_sentence(sentence,ignore_letters=['?','!',\"¡\",\"¿\",\",\",\".\"]):\n",
    "    #Tokenize\n",
    "    sentence_words=sentence.split()\n",
    "    #Lematize and normalize\n",
    "    normWords=normalize(\" \" .join(sentence_words))\n",
    "    sentence_words=[lemma for lemma in lemmatizer(normWords) if lemma not in ignore_letters]\n",
    "    if sentence_words==[]:\n",
    "        return sentence.lower().split()\n",
    "    return sentence_words\n",
    "\n",
    "clean_sentence(\"hola, como estás?\")"
   ]
  },
  {
   "cell_type": "code",
   "execution_count": 33,
   "metadata": {},
   "outputs": [
    {
     "data": {
      "text/plain": [
       "array([0, 0, 0, 0, 0, 0, 0, 0, 0, 0, 0, 0, 0, 0, 0, 0, 0, 0, 0, 0, 0, 0,\n",
       "       0, 0, 0, 1, 0, 0, 0, 0, 0, 0, 0, 0, 0, 0, 0, 0, 0, 0, 0, 0, 0, 0,\n",
       "       0, 0, 0])"
      ]
     },
     "execution_count": 33,
     "metadata": {},
     "output_type": "execute_result"
    }
   ],
   "source": [
    "#Matrix from text \n",
    "\n",
    "\"\"\"\n",
    "Matriz del mismo tamaño que la usada para entrenar x[i,j].\n",
    "\n",
    "si x[i,j] = 1 la palabra j de la oración i SI está en la lista de palabras de \n",
    "    entrenamiento (features)\n",
    "    \n",
    "si x[i,j] = 0 la palabra j de la oración i NO está en la lista de palabras de \n",
    "    entrenamiento (features)\n",
    "\"\"\"\n",
    "\n",
    "def bag_of_words(sentence):\n",
    "    sentence_words=clean_sentence(sentence)\n",
    "    bag=[0]* len(words)\n",
    "    for w in sentence_words:\n",
    "        for i,word in enumerate(words):\n",
    "            if word==w:\n",
    "                bag[i]=1\n",
    "    return np.array(bag)\n",
    "\n",
    "bag_of_words(\"hola como estas, eres un bot?\")              "
   ]
  },
  {
   "cell_type": "code",
   "execution_count": 34,
   "metadata": {},
   "outputs": [
    {
     "data": {
      "text/plain": [
       "[{'intent': 'greeting', 'probability': 0.9212816}]"
      ]
     },
     "execution_count": 34,
     "metadata": {},
     "output_type": "execute_result"
    }
   ],
   "source": [
    "#Predict Class from sentence\n",
    "\n",
    "def predict_class(sentence):\n",
    "    \n",
    "    \n",
    "    bow=bag_of_words(sentence)\n",
    "    x=np.array([bow])\n",
    "    res=model.predict(x)[0]\n",
    "    results=[[i,r] for i,r in enumerate(res)]\n",
    "    results.sort(key=lambda x: x[1],reverse=True)\n",
    "    return_list=[]\n",
    "    for r in results:\n",
    "        _data={'intent':classes[r[0]],'probability':r[1]}\n",
    "        return_list.append(_data)\n",
    "        return return_list\n",
    "\n",
    "\n",
    "result=predict_class(\"hola como estas, eres un bot?\")\n",
    "result"
   ]
  },
  {
   "cell_type": "code",
   "execution_count": 35,
   "metadata": {},
   "outputs": [],
   "source": [
    "#Make a Response\n",
    "\n",
    "def get_response(intents_list,intents_json,ERROR_THRESHOLD=0.7):\n",
    "    \"\"\"\n",
    "    intentens_list: list prediction od model,\n",
    "    intents_json: own data (json file)\n",
    "    ERROR_THRESHOL: Minimum probablity to give a response\n",
    "    \"\"\"\n",
    "    print(intents_list[0]['probability'])\n",
    "    if intents_list[0]['probability']<ERROR_THRESHOLD:\n",
    "        return \"Lo siento, no entiendo lo que me dices, pero puedes preguntarme por el menu!\"\n",
    "    \n",
    "    \n",
    "    tag=intents_list[0]['intent'] #get intent mayor probability\n",
    "    list_intents=intents_json['intents']\n",
    "    for i in list_intents:\n",
    "        if i['tag']==tag:\n",
    "            results=random.choice(i['responses']) #Random response from responses\n",
    "            break\n",
    "    return results\n",
    "\n"
   ]
  },
  {
   "cell_type": "code",
   "execution_count": 36,
   "metadata": {},
   "outputs": [
    {
     "name": "stdout",
     "output_type": "stream",
     "text": [
      "yo: hola\n",
      "0.9212816\n",
      "bot: Hola!\n",
      "yo: buenos días\n",
      "0.8963507\n",
      "bot: Hola, un gusto conocerte\n",
      "yo: hola, esta abierto?\n",
      "0.9895839\n",
      "bot: Abrimos de Lunes a Domingo. 6am-10pm\n",
      "yo: mmm y que productos venden?\n",
      "0.9999999\n",
      "bot: Tenemos Galletas Chocolate a $2000, Galletas de Coco a $9999 y nuestros cafés todos a $50\n",
      "yo: en que horario?\n",
      "0.99952435\n",
      "bot: Abrimos de Lunes a Domingo. 6am-10pm\n",
      "yo: me puedes dar una direccion?\n",
      "0.9990934\n",
      "bot: Puedes encontrarnos en la Calle 100, al lado del Starbucks. Te esperamos.\n",
      "yo: dame la ubicacion\n",
      "0.7208332\n",
      "bot: Adios :(\n",
      "yo: donde estan ubicados\n",
      "1.0\n",
      "bot: Puedes encontrarnos en la Calle 100, al lado del Starbucks. Te esperamos.\n",
      "yo: adios\n",
      "0.90221465\n",
      "bot: Chao, un gusto conocerte!\n",
      "yo: quit\n",
      "0.7208332\n",
      "bot: Vuelve pronto!\n"
     ]
    }
   ],
   "source": [
    "while True:\n",
    "    message=input(\"yo: \")\n",
    "    ints=predict_class(message)\n",
    "    res=get_response(ints,intents)\n",
    "    print(\"bot:\",res)\n",
    "    if message==\"quit\":\n",
    "        break"
   ]
  }
 ],
 "metadata": {
  "kernelspec": {
   "display_name": "Python 3",
   "language": "python",
   "name": "python3"
  },
  "language_info": {
   "codemirror_mode": {
    "name": "ipython",
    "version": 3
   },
   "file_extension": ".py",
   "mimetype": "text/x-python",
   "name": "python",
   "nbconvert_exporter": "python",
   "pygments_lexer": "ipython3",
   "version": "3.6.8"
  }
 },
 "nbformat": 4,
 "nbformat_minor": 4
}
